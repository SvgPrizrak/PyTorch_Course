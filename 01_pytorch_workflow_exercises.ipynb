{
 "cells": [
  {
   "cell_type": "markdown",
   "metadata": {
    "colab_type": "text",
    "id": "view-in-github"
   },
   "source": [
    "<a href=\"https://colab.research.google.com/github/mrdbourke/pytorch-deep-learning/blob/main/extras/exercises/01_pytorch_workflow_exercises.ipynb\" target=\"_parent\"><img src=\"https://colab.research.google.com/assets/colab-badge.svg\" alt=\"Open In Colab\"/></a>"
   ]
  },
  {
   "cell_type": "markdown",
   "metadata": {
    "id": "N8LsPXZti9Sw"
   },
   "source": [
    "# 01. PyTorch Workflow Exercise Template\n",
    "\n",
    "The following is a template for the PyTorch workflow exercises.\n",
    "\n",
    "It's only starter code and it's your job to fill in the blanks.\n",
    "\n",
    "Because of the flexibility of PyTorch, there may be more than one way to answer the question.\n",
    "\n",
    "Don't worry about trying to be *right* just try writing code that suffices the question.\n",
    "\n",
    "You can see one form of [solutions on GitHub](https://github.com/mrdbourke/pytorch-deep-learning/tree/main/extras/solutions) (but try the exercises below yourself first!)."
   ]
  },
  {
   "cell_type": "code",
   "execution_count": 1,
   "metadata": {
    "id": "Glu2fM4dkNlx"
   },
   "outputs": [],
   "source": [
    "# Import necessary libraries\n",
    "import torch\n",
    "from torch import nn\n",
    "from sklearn.model_selection import train_test_split\n",
    "import matplotlib.pyplot as plt"
   ]
  },
  {
   "cell_type": "code",
   "execution_count": 2,
   "metadata": {
    "id": "LqKhXY26m31s"
   },
   "outputs": [
    {
     "data": {
      "text/plain": [
       "'cuda'"
      ]
     },
     "execution_count": 2,
     "metadata": {},
     "output_type": "execute_result"
    }
   ],
   "source": [
    "# Setup device-agnostic code\n",
    "device = 'cuda' if torch.cuda.is_available() else 'cpu'\n",
    "device"
   ]
  },
  {
   "cell_type": "markdown",
   "metadata": {
    "id": "g7HUhxCxjeBx"
   },
   "source": [
    "## 1. Create a straight line dataset using the linear regression formula (`weight * X + bias`).\n",
    "  * Set `weight=0.3` and `bias=0.9` there should be at least 100 datapoints total. \n",
    "  * Split the data into 80% training, 20% testing.\n",
    "  * Plot the training and testing data so it becomes visual.\n",
    "\n",
    "Your output of the below cell should look something like:\n",
    "```\n",
    "Number of X samples: 100\n",
    "Number of y samples: 100\n",
    "First 10 X & y samples:\n",
    "X: tensor([0.0000, 0.0100, 0.0200, 0.0300, 0.0400, 0.0500, 0.0600, 0.0700, 0.0800,\n",
    "        0.0900])\n",
    "y: tensor([0.9000, 0.9030, 0.9060, 0.9090, 0.9120, 0.9150, 0.9180, 0.9210, 0.9240,\n",
    "        0.9270])\n",
    "```\n",
    "\n",
    "Of course the numbers in `X` and `y` may be different but ideally they're created using the linear regression formula."
   ]
  },
  {
   "cell_type": "code",
   "execution_count": 3,
   "metadata": {
    "id": "KbDG5MV7jhvE"
   },
   "outputs": [
    {
     "name": "stdout",
     "output_type": "stream",
     "text": [
      "Number of X samples: 200\n",
      "Number of y samples: 200\n",
      "First 10 X & y samples:\n",
      "X: tensor([[0.0000],\n",
      "        [0.1000],\n",
      "        [0.2000],\n",
      "        [0.3000],\n",
      "        [0.4000],\n",
      "        [0.5000],\n",
      "        [0.6000],\n",
      "        [0.7000],\n",
      "        [0.8000],\n",
      "        [0.9000]])\n",
      "y: tensor([[0.9000],\n",
      "        [0.9300],\n",
      "        [0.9600],\n",
      "        [0.9900],\n",
      "        [1.0200],\n",
      "        [1.0500],\n",
      "        [1.0800],\n",
      "        [1.1100],\n",
      "        [1.1400],\n",
      "        [1.1700]])\n"
     ]
    }
   ],
   "source": [
    "# Create the data parameters\n",
    "weight = 0.3\n",
    "bias = 0.9\n",
    "\n",
    "# Make X and y using linear regression feature\n",
    "X = torch.arange(0, 20, 0.1).reshape(-1, 1)\n",
    "y = weight * X + bias\n",
    "\n",
    "print(f\"Number of X samples: {len(X)}\")\n",
    "print(f\"Number of y samples: {len(y)}\")\n",
    "print(f\"First 10 X & y samples:\\nX: {X[:10]}\\ny: {y[:10]}\")"
   ]
  },
  {
   "cell_type": "code",
   "execution_count": 4,
   "metadata": {
    "id": "GlwtT1djkmLw"
   },
   "outputs": [],
   "source": [
    "# Split the data into training and testing\n",
    "X_train, X_test, y_train, y_test = train_test_split(X, y, train_size=0.8, random_state=42)\n",
    "X_train = X_train.to(device)\n",
    "X_test = X_test.to(device)\n",
    "y_train = y_train.to(device)\n",
    "y_test = y_test.to(device)"
   ]
  },
  {
   "cell_type": "code",
   "execution_count": 5,
   "metadata": {
    "id": "29iQZFNhlYJ-"
   },
   "outputs": [],
   "source": [
    "# Plot the training and testing data \n",
    "def plot_predictions(X_train=X_train.to('cpu'), \n",
    "                     X_test=X_test.to('cpu'), \n",
    "                     y_train=y_train.to('cpu'), \n",
    "                     y_test=y_test.to('cpu'), \n",
    "                     y_pred=None):\n",
    "    \n",
    "    plt.figure(figsize=(20, 9))\n",
    "    plt.scatter(X_train, y_train, s=7, color='blue', label='Train')\n",
    "    plt.scatter(X_test, y_test, s=7, color='red', label='Test')\n",
    "\n",
    "    if y_pred is not None:\n",
    "         plt.scatter(X_test, y_pred.to('cpu'), s=7, color='yellow', label='Predictions')\n",
    "    plt.legend(prop={\"size\": 14})\n",
    "    plt.grid()\n",
    "    plt.show()\n",
    "    \n",
    "    return None"
   ]
  },
  {
   "cell_type": "code",
   "execution_count": 6,
   "metadata": {},
   "outputs": [
    {
     "data": {
      "image/png": "[encoded data removed]",
      "text/plain": [
       "<Figure size 2000x900 with 1 Axes>"
      ]
     },
     "metadata": {},
     "output_type": "display_data"
    }
   ],
   "source": [
    "plot_predictions()"
   ]
  },
  {
   "cell_type": "markdown",
   "metadata": {
    "id": "ImZoe3v8jif8"
   },
   "source": [
    "## 2. Build a PyTorch model by subclassing `nn.Module`. \n",
    "  * Inside should be a randomly initialized `nn.Parameter()` with `requires_grad=True`, one for `weights` and one for `bias`. \n",
    "  * Implement the `forward()` method to compute the linear regression function you used to create the dataset in 1. \n",
    "  * Once you've constructed the model, make an instance of it and check its `state_dict()`.\n",
    "  * **Note:** If you'd like to use `nn.Linear()` instead of `nn.Parameter()` you can."
   ]
  },
  {
   "cell_type": "code",
   "execution_count": 7,
   "metadata": {
    "id": "qzd__Y5rjtB8"
   },
   "outputs": [],
   "source": [
    "# Create PyTorch linear regression model by subclassing nn.Module\n",
    "class LinearModelRegression(nn.Module):\n",
    "    def __init__(self):\n",
    "        super().__init__()\n",
    "        self.weight = nn.Parameter(torch.randn(1, dtype=torch.float, device=device), requires_grad=True)\n",
    "        self.bias = nn.Parameter(torch.randn(1, dtype=torch.float, device=device), requires_grad=True)\n",
    "\n",
    "    def forward(self, x: torch.Tensor) -> torch.Tensor:\n",
    "        return self.weight * x + self.bias"
   ]
  },
  {
   "cell_type": "code",
   "execution_count": 8,
   "metadata": {
    "id": "5LdcDnmOmyQ2"
   },
   "outputs": [
    {
     "data": {
      "text/plain": [
       "OrderedDict([('weight', tensor([0.1940], device='cuda:0')),\n",
       "             ('bias', tensor([0.1391], device='cuda:0'))])"
      ]
     },
     "execution_count": 8,
     "metadata": {},
     "output_type": "execute_result"
    }
   ],
   "source": [
    "# Instantiate the model and put it to the target device\n",
    "MANUAL_SEED = 42\n",
    "torch.cuda.manual_seed(MANUAL_SEED)\n",
    "model_0 = LinearModelRegression().to(device)\n",
    "model_0.state_dict()"
   ]
  },
  {
   "cell_type": "markdown",
   "metadata": {
    "id": "G6nYOrJhjtfu"
   },
   "source": [
    "## 3. Create a loss function and optimizer using `nn.L1Loss()` and `torch.optim.SGD(params, lr)` respectively. \n",
    "  * Set the learning rate of the optimizer to be 0.01 and the parameters to optimize should be the model parameters from the model you created in 2.\n",
    "  * Write a training loop to perform the appropriate training steps for 300 epochs.\n",
    "  * The training loop should test the model on the test dataset every 20 epochs."
   ]
  },
  {
   "cell_type": "code",
   "execution_count": 9,
   "metadata": {
    "id": "ltvoZ-FWjv1j"
   },
   "outputs": [],
   "source": [
    "# Create the loss function and optimizer\n",
    "loss_fn = nn.MSELoss()\n",
    "optimizer = torch.optim.SGD(params=model_0.parameters(), lr=0.0073)"
   ]
  },
  {
   "cell_type": "code",
   "execution_count": 10,
   "metadata": {
    "id": "xpE83NvNnkdV"
   },
   "outputs": [
    {
     "name": "stdout",
     "output_type": "stream",
     "text": [
      "Epoch: 0 | Train loss: 3.673 | Test loss: 3.109 | Weight: 0.510 | Bias: 0.166\n",
      "Epoch: 20 | Train loss: 0.695 | Test loss: 0.556 | Weight: 0.414 | Bias: 0.214\n",
      "Epoch: 40 | Train loss: 0.200 | Test loss: 0.149 | Weight: 0.373 | Bias: 0.262\n",
      "Epoch: 60 | Train loss: 0.108 | Test loss: 0.080 | Weight: 0.354 | Bias: 0.308\n",
      "Epoch: 80 | Train loss: 0.082 | Test loss: 0.062 | Weight: 0.345 | Bias: 0.351\n",
      "Epoch: 100 | Train loss: 0.069 | Test loss: 0.053 | Weight: 0.340 | Bias: 0.391\n",
      "Epoch: 120 | Train loss: 0.059 | Test loss: 0.046 | Weight: 0.336 | Bias: 0.429\n",
      "Epoch: 140 | Train loss: 0.051 | Test loss: 0.039 | Weight: 0.333 | Bias: 0.463\n",
      "Epoch: 160 | Train loss: 0.043 | Test loss: 0.034 | Weight: 0.330 | Bias: 0.496\n",
      "Epoch: 180 | Train loss: 0.037 | Test loss: 0.029 | Weight: 0.328 | Bias: 0.525\n",
      "Epoch: 200 | Train loss: 0.032 | Test loss: 0.025 | Weight: 0.326 | Bias: 0.553\n",
      "Epoch: 220 | Train loss: 0.027 | Test loss: 0.021 | Weight: 0.324 | Bias: 0.579\n",
      "Epoch: 240 | Train loss: 0.024 | Test loss: 0.018 | Weight: 0.322 | Bias: 0.602\n",
      "Epoch: 260 | Train loss: 0.020 | Test loss: 0.016 | Weight: 0.321 | Bias: 0.624\n",
      "Epoch: 280 | Train loss: 0.017 | Test loss: 0.014 | Weight: 0.319 | Bias: 0.644\n",
      "Epoch: 300 | Train loss: 0.015 | Test loss: 0.012 | Weight: 0.318 | Bias: 0.663\n",
      "Epoch: 320 | Train loss: 0.013 | Test loss: 0.010 | Weight: 0.316 | Bias: 0.681\n",
      "Epoch: 340 | Train loss: 0.011 | Test loss: 0.009 | Weight: 0.315 | Bias: 0.697\n",
      "Epoch: 360 | Train loss: 0.009 | Test loss: 0.007 | Weight: 0.314 | Bias: 0.712\n",
      "Epoch: 380 | Train loss: 0.008 | Test loss: 0.006 | Weight: 0.313 | Bias: 0.726\n",
      "Epoch: 400 | Train loss: 0.007 | Test loss: 0.005 | Weight: 0.312 | Bias: 0.739\n",
      "Epoch: 420 | Train loss: 0.006 | Test loss: 0.005 | Weight: 0.311 | Bias: 0.750\n",
      "Epoch: 440 | Train loss: 0.005 | Test loss: 0.004 | Weight: 0.310 | Bias: 0.761\n",
      "Epoch: 460 | Train loss: 0.004 | Test loss: 0.003 | Weight: 0.310 | Bias: 0.772\n",
      "Epoch: 480 | Train loss: 0.004 | Test loss: 0.003 | Weight: 0.309 | Bias: 0.781\n",
      "Epoch: 500 | Train loss: 0.003 | Test loss: 0.003 | Weight: 0.308 | Bias: 0.790\n",
      "Epoch: 520 | Train loss: 0.003 | Test loss: 0.002 | Weight: 0.308 | Bias: 0.798\n",
      "Epoch: 540 | Train loss: 0.002 | Test loss: 0.002 | Weight: 0.307 | Bias: 0.806\n",
      "Epoch: 560 | Train loss: 0.002 | Test loss: 0.002 | Weight: 0.307 | Bias: 0.812\n",
      "Epoch: 580 | Train loss: 0.002 | Test loss: 0.001 | Weight: 0.306 | Bias: 0.819\n"
     ]
    }
   ],
   "source": [
    "# Training loop\n",
    "# Train model for 600 epochs\n",
    "epochs = 600\n",
    "\n",
    "# Create empty loss lists to track values\n",
    "train_loss_values = []\n",
    "test_loss_values = []\n",
    "epochs_list = []\n",
    "\n",
    "for epoch in range(epochs):\n",
    "  ### Training\n",
    "\n",
    "  # Put model in train mode\n",
    "  model_0.train()\n",
    "\n",
    "  # 1. Forward pass\n",
    "  y_train_pred = model_0(X_train)\n",
    "\n",
    "  # 2. Calculate loss\n",
    "  train_loss = loss_fn(y_train_pred, y_train)\n",
    "\n",
    "  # 3. Zero gradients\n",
    "  optimizer.zero_grad()\n",
    "\n",
    "  # 4. Backpropagation\n",
    "  train_loss.backward()\n",
    "\n",
    "  # 5. Step the optimizer\n",
    "  optimizer.step()\n",
    "\n",
    "  ### Perform testing every 20 epochs\n",
    "  if epoch % 20 == 0:\n",
    "      \n",
    "      # Put model in evaluation mode and setup inference context \n",
    "      model_0.eval()\n",
    "\n",
    "      \n",
    "      # 1. Forward pass\n",
    "      with torch.inference_mode():\n",
    "          y_test_pred = model_0(X_test)\n",
    "          \n",
    "          # 2. Calculate test loss\n",
    "          test_loss = loss_fn(y_test_pred, y_test)\n",
    "    \n",
    "          train_loss_values.append(train_loss.detach().item())\n",
    "          test_loss_values.append(test_loss.detach().item())\n",
    "          epochs_list.append(epoch)\n",
    "      \n",
    "      # Print out what's happening\n",
    "      print(f\"Epoch: {epoch} | Train loss: {train_loss:.3f} | Test loss: {test_loss:.3f} | Weight: {model_0.state_dict()['weight'].item():.3f} | Bias: {model_0.state_dict()['bias'].item():.3f}\")"
   ]
  },
  {
   "cell_type": "code",
   "execution_count": 11,
   "metadata": {},
   "outputs": [
    {
     "data": {
      "image/png": "[encoded data removed]",
      "text/plain": [
       "<Figure size 500x500 with 1 Axes>"
      ]
     },
     "metadata": {},
     "output_type": "display_data"
    }
   ],
   "source": [
    "# Plot the loss lineplots\n",
    "plt.figure(figsize=(5, 5))\n",
    "plt.plot(epochs_list, train_loss_values, color='blue', label='Train Loss')\n",
    "plt.plot(epochs_list, test_loss_values, color='orange', label='Test Loss')\n",
    "plt.legend()\n",
    "plt.grid()\n",
    "plt.show()"
   ]
  },
  {
   "cell_type": "markdown",
   "metadata": {
    "id": "x4j4TM18jwa7"
   },
   "source": [
    "## 4. Make predictions with the trained model on the test data.\n",
    "  * Visualize these predictions against the original training and testing data (**note:** you may need to make sure the predictions are *not* on the GPU if you want to use non-CUDA-enabled libraries such as matplotlib to plot)."
   ]
  },
  {
   "cell_type": "code",
   "execution_count": 12,
   "metadata": {
    "id": "bbMPK5Qjjyx_"
   },
   "outputs": [],
   "source": [
    "# Make predictions with the model\n",
    "with torch.inference_mode():\n",
    "    model_0.eval()\n",
    "    y_pred = model_0(X_test)"
   ]
  },
  {
   "cell_type": "code",
   "execution_count": 13,
   "metadata": {
    "id": "K3BdmQaDpFo8"
   },
   "outputs": [
    {
     "data": {
      "image/png": "[encoded data removed]",
      "text/plain": [
       "<Figure size 2000x900 with 1 Axes>"
      ]
     },
     "metadata": {},
     "output_type": "display_data"
    }
   ],
   "source": [
    "# Plot the predictions (these may need to be on a specific device)\n",
    "plot_predictions(y_pred=y_pred)"
   ]
  },
  {
   "cell_type": "markdown",
   "metadata": {
    "id": "s2OnlMWKjzX8"
   },
   "source": [
    "## 5. Save your trained model's `state_dict()` to file.\n",
    "  * Create a new instance of your model class you made in 2. and load in the `state_dict()` you just saved to it.\n",
    "  * Perform predictions on your test data with the loaded model and confirm they match the original model predictions from 4."
   ]
  },
  {
   "cell_type": "code",
   "execution_count": 14,
   "metadata": {
    "id": "hgxhgD14qr-i"
   },
   "outputs": [
    {
     "name": "stdout",
     "output_type": "stream",
     "text": [
      "Saving model to: models\\01_linear_regression_model.pth\n"
     ]
    }
   ],
   "source": [
    "from pathlib import Path\n",
    "\n",
    "# 1. Create models directory \n",
    "MODEL_PATH = Path('models')\n",
    "MODEL_PATH.mkdir(parents=True, exist_ok=True)\n",
    "\n",
    "# 2. Create model save path \n",
    "MODEL_NAME = '01_linear_regression_model.pth'\n",
    "MODEL_SAVE_PATH = MODEL_PATH / MODEL_NAME\n",
    "\n",
    "# 3. Save the model state dict\n",
    "print(f\"Saving model to: {MODEL_SAVE_PATH}\")\n",
    "torch.save(obj=model_0.state_dict(), f=MODEL_SAVE_PATH)"
   ]
  },
  {
   "cell_type": "code",
   "execution_count": 15,
   "metadata": {
    "id": "P9vTgiLRrJ7T"
   },
   "outputs": [
    {
     "data": {
      "text/plain": [
       "LinearModelRegression()"
      ]
     },
     "execution_count": 15,
     "metadata": {},
     "output_type": "execute_result"
    }
   ],
   "source": [
    "# Create new instance of model and load saved state dict (make sure to put it on the target device)\n",
    "loaded_model_0 = LinearModelRegression()\n",
    "loaded_model_0.load_state_dict(torch.load(f=MODEL_SAVE_PATH))\n",
    "loaded_model_0"
   ]
  },
  {
   "cell_type": "code",
   "execution_count": 16,
   "metadata": {
    "id": "8UGX3VebrVtI"
   },
   "outputs": [
    {
     "data": {
      "text/plain": [
       "tensor([[True],\n",
       "        [True],\n",
       "        [True],\n",
       "        [True],\n",
       "        [True],\n",
       "        [True],\n",
       "        [True],\n",
       "        [True],\n",
       "        [True],\n",
       "        [True],\n",
       "        [True],\n",
       "        [True],\n",
       "        [True],\n",
       "        [True],\n",
       "        [True],\n",
       "        [True],\n",
       "        [True],\n",
       "        [True],\n",
       "        [True],\n",
       "        [True],\n",
       "        [True],\n",
       "        [True],\n",
       "        [True],\n",
       "        [True],\n",
       "        [True],\n",
       "        [True],\n",
       "        [True],\n",
       "        [True],\n",
       "        [True],\n",
       "        [True],\n",
       "        [True],\n",
       "        [True],\n",
       "        [True],\n",
       "        [True],\n",
       "        [True],\n",
       "        [True],\n",
       "        [True],\n",
       "        [True],\n",
       "        [True],\n",
       "        [True]], device='cuda:0')"
      ]
     },
     "execution_count": 16,
     "metadata": {},
     "output_type": "execute_result"
    }
   ],
   "source": [
    "# Make predictions with loaded model and compare them to the previous\n",
    "with torch.inference_mode():\n",
    "    loaded_model_0.eval()\n",
    "    y_loaded_pred = loaded_model_0(X_test) \n",
    "y_loaded_pred == y_pred"
   ]
  }
 ],
 "metadata": {
  "accelerator": "GPU",
  "colab": {
   "authorship_tag": "ABX9TyNYzatJtFkfUqqdiR6rYwVL",
   "collapsed_sections": [],
   "include_colab_link": true,
   "name": "01_pytorch_workflow_exercises.ipynb",
   "provenance": []
  },
  "kernelspec": {
   "display_name": "Python 3 (ipykernel)",
   "language": "python",
   "name": "python3"
  },
  "language_info": {
   "codemirror_mode": {
    "name": "ipython",
    "version": 3
   },
   "file_extension": ".py",
   "mimetype": "text/x-python",
   "name": "python",
   "nbconvert_exporter": "python",
   "pygments_lexer": "ipython3",
   "version": "3.11.5"
  }
 },
 "nbformat": 4,
 "nbformat_minor": 4
}
